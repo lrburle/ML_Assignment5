{
  "cells": [
    {
      "cell_type": "markdown",
      "metadata": {},
      "source": [
        "# Assignment 5 - Landon Burleson\n",
        "\n",
        "### Problem 1 - Taste Entropy\n",
        "The entropy of the taste column shown in the table, is given by the following formula:\n",
        "\n",
        "$$H(Y)=-\\sum_{i=1}^{k} P(Y=y_i)log_2P(Y=y_i)$$\n",
        "\n",
        "$$P(taste=Meh) = \\frac{5}{10}$$\n",
        "$$P(taste=Yummy) = \\frac{5}{10}$$\n",
        "\n",
        "$$H(taste) = -\\frac{5}{10}log_2(\\frac{5}{10}) - \\frac{5}{10}log_2(\\frac{5}{10}) = 1$$\n",
        "\n",
        "The entropy equates to 1 or complete uncertainty for the taste column.\n",
        "\n",
        "***\n",
        "### Problem 2 - Information Gain\n",
        "Conditional entropy is given by the following formula:\n",
        "$$H(Y|X) = -\\sum_{j=1}^vP(X=x_j)\\sum_{i=1}^kP(Y=y_i|X=x_j)log_2P(Y=y_i|X=x_j)$$\n",
        "\n",
        "Information gain is given as the following:\n",
        "$$IG(X)=H(Y)-H(Y|X)$$\n",
        "\n",
        "$$IG(Visual Defects)=H(taste)-H(taste|Visual Defects)$$\n",
        "\n",
        "$$P(Visual Defects = Some)= \\frac{3}{10}$$\n",
        "$$P(Visual Defects = None)= \\frac{4}{10}$$\n",
        "$$P(Visual Defects = Many)= \\frac{3}{10}$$\n",
        "\n",
        "$$H(taste|Visual Defects) = -\\frac{3}{10}(\\frac{3}{3}log_2(\\frac{3}{3}) + 0log_2(0)) -\n",
        "\\frac{4}{10}(\\frac{1}{2}log_2(\\frac{1}{2}) + \\frac{1}{2}log_2(\\frac{1}{2})) -\n",
        "\\frac{3}{10}(0log_2(0)+1log_2(1)) = 0.4$$ \n",
        "\n",
        "$$IG(Visual Defects) = 1 - 0.4 = \\bold{0.6}$$\n",
        "***\n",
        "### Problem 3 - Conditional Entropy\n",
        "See above work in __Problem 2__ for more details on the calculations of the conditional entropy.\n",
        "\n",
        "$$H(taste|Visual Defects = Some) = Undefined$$ \n",
        "$$H(taste|Visual Defects = None) = 0.4$$ \n",
        "\n",
        "### Problem 4 - Not Implemented"
      ]
    }
  ],
  "metadata": {
    "accelerator": "GPU",
    "colab": {
      "collapsed_sections": [],
      "include_colab_link": true,
      "provenance": []
    },
    "gpuClass": "standard",
    "kernelspec": {
      "display_name": "Python 3.9.6 64-bit",
      "language": "python",
      "name": "python3"
    },
    "language_info": {
      "codemirror_mode": {
        "name": "ipython",
        "version": 3
      },
      "file_extension": ".py",
      "mimetype": "text/x-python",
      "name": "python",
      "nbconvert_exporter": "python",
      "pygments_lexer": "ipython3",
      "version": "3.9.6"
    },
    "vscode": {
      "interpreter": {
        "hash": "31f2aee4e71d21fbe5cf8b01ff0e069b9275f58929596ceb00d14d90e3e16cd6"
      }
    }
  },
  "nbformat": 4,
  "nbformat_minor": 0
}
